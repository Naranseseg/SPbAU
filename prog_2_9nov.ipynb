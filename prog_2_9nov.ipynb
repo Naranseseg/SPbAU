{
 "cells": [
  {
   "cell_type": "code",
   "execution_count": 2,
   "metadata": {},
   "outputs": [
    {
     "name": "stdout",
     "output_type": "stream",
     "text": [
      "<function my_exp at 0x00000210ADB859D0> <numpy.vectorize object at 0x00000210ADBC94C0>\n"
     ]
    },
    {
     "data": {
      "image/png": "[encoded data removed]",
      "text/plain": [
       "<Figure size 432x288 with 1 Axes>"
      ]
     },
     "metadata": {
      "needs_background": "light"
     },
     "output_type": "display_data"
    },
    {
     "name": "stdout",
     "output_type": "stream",
     "text": [
      "20.085536923187668\n",
      "20.085536921517665\n",
      "Значение натурального логарифма, при котором экпонента достигает пяти: (1.6094379124341003+0j)\n",
      "Достигает ли пяти наше значение экспоненты? (4.999999999999993+0j)\n",
      "А библиотечное? (4.999999999999999+0j)\n"
     ]
    }
   ],
   "source": [
    "%matplotlib inline\n",
    "\n",
    "import math\n",
    "import cmath\n",
    "import numpy as np\n",
    "import matplotlib.pyplot as plt\n",
    "\n",
    "ITERATIONS = 20\n",
    "\n",
    "def my_exp(x):\n",
    "\n",
    "    x_pow = 1\n",
    "    multiplier = 1\n",
    "    partial_sum = 1\n",
    "    for n in range(1, ITERATIONS):\n",
    "        x_pow *= x \n",
    "        multiplier *= 1 /n \n",
    "        partial_sum += x_pow * multiplier\n",
    "    \n",
    "    return partial_sum\n",
    "\n",
    "vs = np.vectorize(my_exp)\n",
    "print(my_exp, vs)\n",
    "value = np.r_[0:10:0.0001] \n",
    "plt.plot(value, np.exp(value+1)) \n",
    "plt.plot(value, vs(value))\n",
    "plt.show()\n",
    "\n",
    "print(math.exp(3))\n",
    "print(my_exp(3))\n",
    "\n",
    "ln_x = cmath.log(5, cmath.e)\n",
    "print('Значение натурального логарифма, при котором экпонента достигает пяти:', ln_x)\n",
    "\n",
    "print(\"Достигает ли пяти наше значение экспоненты?\", my_exp(ln_x))\n",
    "print(\"А библиотечное?\", cmath.exp(ln_x))"
   ]
  },
  {
   "cell_type": "code",
   "execution_count": null,
   "metadata": {},
   "outputs": [],
   "source": []
  }
 ],
 "metadata": {
  "kernelspec": {
   "display_name": "Python 3",
   "language": "python",
   "name": "python3"
  },
  "language_info": {
   "codemirror_mode": {
    "name": "ipython",
    "version": 3
   },
   "file_extension": ".py",
   "mimetype": "text/x-python",
   "name": "python",
   "nbconvert_exporter": "python",
   "pygments_lexer": "ipython3",
   "version": "3.8.3"
  }
 },
 "nbformat": 4,
 "nbformat_minor": 4
}
